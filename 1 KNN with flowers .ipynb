{
 "cells": [
  {
   "cell_type": "code",
   "execution_count": 1,
   "id": "cbfa888b-5df9-4688-b0a8-e6f727b67436",
   "metadata": {},
   "outputs": [],
   "source": [
    "import pandas as pd\n",
    "import numpy as np\n",
    "from statistics import mode\n",
    "import matplotlib.pyplot as plt\n",
    "from IPython.display import clear_output"
   ]
  },
  {
   "cell_type": "markdown",
   "id": "87b0f0ce-1dbb-4d88-9be9-0380100cfa11",
   "metadata": {},
   "source": [
    "## import the file "
   ]
  },
  {
   "cell_type": "code",
   "execution_count": 2,
   "id": "601490b0-ea29-4edf-859e-406eda74811b",
   "metadata": {},
   "outputs": [
    {
     "data": {
      "text/html": [
       "<div>\n",
       "<style scoped>\n",
       "    .dataframe tbody tr th:only-of-type {\n",
       "        vertical-align: middle;\n",
       "    }\n",
       "\n",
       "    .dataframe tbody tr th {\n",
       "        vertical-align: top;\n",
       "    }\n",
       "\n",
       "    .dataframe thead th {\n",
       "        text-align: right;\n",
       "    }\n",
       "</style>\n",
       "<table border=\"1\" class=\"dataframe\">\n",
       "  <thead>\n",
       "    <tr style=\"text-align: right;\">\n",
       "      <th></th>\n",
       "      <th>Sepal Length</th>\n",
       "      <th>Sepal Width</th>\n",
       "      <th>Species</th>\n",
       "    </tr>\n",
       "  </thead>\n",
       "  <tbody>\n",
       "    <tr>\n",
       "      <th>0</th>\n",
       "      <td>5.3</td>\n",
       "      <td>3.7</td>\n",
       "      <td>setosa</td>\n",
       "    </tr>\n",
       "    <tr>\n",
       "      <th>1</th>\n",
       "      <td>5.1</td>\n",
       "      <td>3.8</td>\n",
       "      <td>setosa</td>\n",
       "    </tr>\n",
       "    <tr>\n",
       "      <th>2</th>\n",
       "      <td>7.2</td>\n",
       "      <td>3.0</td>\n",
       "      <td>virginica</td>\n",
       "    </tr>\n",
       "    <tr>\n",
       "      <th>3</th>\n",
       "      <td>5.4</td>\n",
       "      <td>3.4</td>\n",
       "      <td>setosa</td>\n",
       "    </tr>\n",
       "    <tr>\n",
       "      <th>4</th>\n",
       "      <td>5.1</td>\n",
       "      <td>3.3</td>\n",
       "      <td>setosa</td>\n",
       "    </tr>\n",
       "  </tbody>\n",
       "</table>\n",
       "</div>"
      ],
      "text/plain": [
       "   Sepal Length  Sepal Width   Species \n",
       "0           5.3          3.7     setosa\n",
       "1           5.1          3.8     setosa\n",
       "2           7.2          3.0  virginica\n",
       "3           5.4          3.4     setosa\n",
       "4           5.1          3.3     setosa"
      ]
     },
     "execution_count": 2,
     "metadata": {},
     "output_type": "execute_result"
    }
   ],
   "source": [
    "flow = pd.read_excel('FLOWER KNN.xlsx')\n",
    "flow.head()"
   ]
  },
  {
   "cell_type": "markdown",
   "id": "d05c42a4-01e1-4011-a494-213cae1b738d",
   "metadata": {},
   "source": [
    "## Renaming the columns"
   ]
  },
  {
   "cell_type": "code",
   "execution_count": 3,
   "id": "9c5010e3-c28e-41bd-a628-4dfe27927bec",
   "metadata": {},
   "outputs": [
    {
     "data": {
      "text/html": [
       "<div>\n",
       "<style scoped>\n",
       "    .dataframe tbody tr th:only-of-type {\n",
       "        vertical-align: middle;\n",
       "    }\n",
       "\n",
       "    .dataframe tbody tr th {\n",
       "        vertical-align: top;\n",
       "    }\n",
       "\n",
       "    .dataframe thead th {\n",
       "        text-align: right;\n",
       "    }\n",
       "</style>\n",
       "<table border=\"1\" class=\"dataframe\">\n",
       "  <thead>\n",
       "    <tr style=\"text-align: right;\">\n",
       "      <th></th>\n",
       "      <th>1</th>\n",
       "      <th>2</th>\n",
       "      <th>Species</th>\n",
       "      <th>Eu-Distance</th>\n",
       "    </tr>\n",
       "  </thead>\n",
       "  <tbody>\n",
       "    <tr>\n",
       "      <th>0</th>\n",
       "      <td>5.3</td>\n",
       "      <td>3.7</td>\n",
       "      <td>setosa</td>\n",
       "      <td>9999</td>\n",
       "    </tr>\n",
       "    <tr>\n",
       "      <th>1</th>\n",
       "      <td>5.1</td>\n",
       "      <td>3.8</td>\n",
       "      <td>setosa</td>\n",
       "      <td>9999</td>\n",
       "    </tr>\n",
       "    <tr>\n",
       "      <th>2</th>\n",
       "      <td>7.2</td>\n",
       "      <td>3.0</td>\n",
       "      <td>virginica</td>\n",
       "      <td>9999</td>\n",
       "    </tr>\n",
       "    <tr>\n",
       "      <th>3</th>\n",
       "      <td>5.4</td>\n",
       "      <td>3.4</td>\n",
       "      <td>setosa</td>\n",
       "      <td>9999</td>\n",
       "    </tr>\n",
       "    <tr>\n",
       "      <th>4</th>\n",
       "      <td>5.1</td>\n",
       "      <td>3.3</td>\n",
       "      <td>setosa</td>\n",
       "      <td>9999</td>\n",
       "    </tr>\n",
       "  </tbody>\n",
       "</table>\n",
       "</div>"
      ],
      "text/plain": [
       "     1    2    Species  Eu-Distance\n",
       "0  5.3  3.7     setosa         9999\n",
       "1  5.1  3.8     setosa         9999\n",
       "2  7.2  3.0  virginica         9999\n",
       "3  5.4  3.4     setosa         9999\n",
       "4  5.1  3.3     setosa         9999"
      ]
     },
     "execution_count": 3,
     "metadata": {},
     "output_type": "execute_result"
    }
   ],
   "source": [
    "cols = ['Sepal Length','Sepal Width','Species ']\n",
    "flow.rename(columns= {cols[0]:1, cols[1]:2, cols[2]:'Species'}, inplace= True)\n",
    "## creating a column for the euclidean distance\n",
    "flow['Eu-Distance'] = 9999\n",
    "flow.head()"
   ]
  },
  {
   "cell_type": "markdown",
   "id": "4652986f-1e21-4368-a66c-8f2804c07835",
   "metadata": {},
   "source": [
    "## Using a function to create the euclidean distance and using it to find the right species for the values given"
   ]
  },
  {
   "cell_type": "code",
   "execution_count": 6,
   "id": "be641993-46d1-4954-a7e3-80f392b00c7f",
   "metadata": {},
   "outputs": [
    {
     "name": "stdout",
     "output_type": "stream",
     "text": [
      "the coresponding flower for values you gave is: setosa\n"
     ]
    }
   ],
   "source": [
    "user_input = input('enter your values seprated by space: ')\n",
    "# clear screenab\n",
    "clear_output(wait=True)\n",
    "values = [float(x) for x in user_input.split(' ')]\n",
    "target =pd.Series(values)\n",
    "flow['Eu-Distance'] = ((flow.iloc[:,0]-target[0])**2 +  (flow.iloc[:,1]-target[1])**2)**0.5\n",
    "k = 10\n",
    "flow = flow.sort_values('Eu-Distance', ascending= True) \n",
    "knn = list(flow.head(k).Species)\n",
    "clear_output(wait=True)\n",
    "print(f'the coresponding flower for values you gave is:', mode(knn))"
   ]
  },
  {
   "cell_type": "code",
   "execution_count": null,
   "id": "07f4c7e2-5d60-4977-b0e4-299466992ef3",
   "metadata": {},
   "outputs": [],
   "source": []
  },
  {
   "cell_type": "code",
   "execution_count": null,
   "id": "d901e724-b456-4f3f-b828-4afbb51a1328",
   "metadata": {},
   "outputs": [],
   "source": []
  },
  {
   "cell_type": "code",
   "execution_count": null,
   "id": "fcf2d28a-5361-40af-91c0-7341416849b4",
   "metadata": {},
   "outputs": [],
   "source": []
  },
  {
   "cell_type": "code",
   "execution_count": null,
   "id": "881e8688-da99-4b9d-9a1f-a63aa02ee2f5",
   "metadata": {},
   "outputs": [],
   "source": []
  },
  {
   "cell_type": "code",
   "execution_count": null,
   "id": "f0416633-8e3f-405f-b231-eea13c7f0809",
   "metadata": {},
   "outputs": [],
   "source": []
  },
  {
   "cell_type": "code",
   "execution_count": null,
   "id": "5b8cd70a-a89c-4b30-957c-1bd83729e7eb",
   "metadata": {},
   "outputs": [],
   "source": []
  }
 ],
 "metadata": {
  "kernelspec": {
   "display_name": "Python 3 (ipykernel)",
   "language": "python",
   "name": "python3"
  },
  "language_info": {
   "codemirror_mode": {
    "name": "ipython",
    "version": 3
   },
   "file_extension": ".py",
   "mimetype": "text/x-python",
   "name": "python",
   "nbconvert_exporter": "python",
   "pygments_lexer": "ipython3",
   "version": "3.11.7"
  }
 },
 "nbformat": 4,
 "nbformat_minor": 5
}
